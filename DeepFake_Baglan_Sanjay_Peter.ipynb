{
  "nbformat": 4,
  "nbformat_minor": 0,
  "metadata": {
    "accelerator": "TPU",
    "colab": {
      "name": "DeepFake_Baglan_Sanjay_Peter.ipynb",
      "provenance": [],
      "collapsed_sections": []
    },
    "kernelspec": {
      "display_name": "Python 3",
      "name": "python3"
    },
    "language_info": {
      "name": "python"
    }
  },
  "cells": [
    {
      "cell_type": "markdown",
      "metadata": {
        "id": "QppvNNBpTraH"
      },
      "source": [
        "#Face detector\n",
        "Store the face images to drive"
      ]
    },
    {
      "cell_type": "code",
      "metadata": {
        "colab": {
          "base_uri": "https://localhost:8080/"
        },
        "id": "YkeHv-MaT2rE",
        "outputId": "0739236b-d3da-4d22-f91c-1f3056ad3715"
      },
      "source": [
        "!pip install facenet-pytorch\n",
        "\n",
        "from facenet_pytorch import MTCNN, extract_face\n",
        "import matplotlib.image as mpl\n",
        "import matplotlib.pyplot as plt\n",
        "import os\n",
        "import cv2\n",
        "import numpy as np\n",
        "import glob\n",
        "\n",
        "mtcnn = MTCNN()"
      ],
      "execution_count": null,
      "outputs": [
        {
          "output_type": "stream",
          "text": [
            "Collecting facenet-pytorch\n",
            "\u001b[?25l  Downloading https://files.pythonhosted.org/packages/18/e8/5ea742737665ba9396a8a2be3d2e2b49a13804b56a7e7bb101e8731ade8f/facenet_pytorch-2.5.2-py3-none-any.whl (1.9MB)\n",
            "\u001b[K     |████████████████████████████████| 1.9MB 3.7MB/s \n",
            "\u001b[?25hRequirement already satisfied: numpy in /usr/local/lib/python3.7/dist-packages (from facenet-pytorch) (1.19.5)\n",
            "Requirement already satisfied: torchvision in /usr/local/lib/python3.7/dist-packages (from facenet-pytorch) (0.9.1+cu101)\n",
            "Requirement already satisfied: requests in /usr/local/lib/python3.7/dist-packages (from facenet-pytorch) (2.23.0)\n",
            "Requirement already satisfied: pillow in /usr/local/lib/python3.7/dist-packages (from facenet-pytorch) (7.1.2)\n",
            "Requirement already satisfied: torch==1.8.1 in /usr/local/lib/python3.7/dist-packages (from torchvision->facenet-pytorch) (1.8.1+cu101)\n",
            "Requirement already satisfied: idna<3,>=2.5 in /usr/local/lib/python3.7/dist-packages (from requests->facenet-pytorch) (2.10)\n",
            "Requirement already satisfied: chardet<4,>=3.0.2 in /usr/local/lib/python3.7/dist-packages (from requests->facenet-pytorch) (3.0.4)\n",
            "Requirement already satisfied: urllib3!=1.25.0,!=1.25.1,<1.26,>=1.21.1 in /usr/local/lib/python3.7/dist-packages (from requests->facenet-pytorch) (1.24.3)\n",
            "Requirement already satisfied: certifi>=2017.4.17 in /usr/local/lib/python3.7/dist-packages (from requests->facenet-pytorch) (2020.12.5)\n",
            "Requirement already satisfied: typing-extensions in /usr/local/lib/python3.7/dist-packages (from torch==1.8.1->torchvision->facenet-pytorch) (3.7.4.3)\n",
            "Installing collected packages: facenet-pytorch\n",
            "Successfully installed facenet-pytorch-2.5.2\n"
          ],
          "name": "stdout"
        }
      ]
    },
    {
      "cell_type": "code",
      "metadata": {
        "id": "mhRe0OfvUgD4"
      },
      "source": [
        "#Set the paths\n",
        "path = '/content/drive/MyDrive/Task_1/development/real_kaggle/'\n",
        "face_path = '/content/drive/MyDrive/Task_1/development_face/real/'\n",
        "\n"
      ],
      "execution_count": null,
      "outputs": []
    },
    {
      "cell_type": "code",
      "metadata": {
        "colab": {
          "background_save": true
        },
        "id": "Wj-gnefQVYVX"
      },
      "source": [
        "#Counter\n",
        "it=0\n",
        "for img in glob.glob(path+\"*.jpg\"):\n",
        "    it=it+1\n",
        "    print(it)\n",
        "    \n",
        "\n",
        "    im=mpl.imread(img)\n",
        "\n",
        "    #image height\n",
        "    h= int(im.shape[0])\n",
        "    #image width\n",
        "    w= int(im.shape[1]) \n",
        "\n",
        "    #name of the new files\n",
        "    #OR real.jpg\n",
        "    file_name=face_path+str (it)+'real_train.jpg'\n",
        "\n",
        "\n",
        "    try:\n",
        "        boxes, probs = mtcnn.detect(im)\n",
        "    except RuntimeError as e:\n",
        "        print(f\"Failed to detected image {im_path}\")\n",
        "        continue\n",
        "    #Detection\n",
        "\n",
        "    \n",
        "\n",
        "    #if there is no detection, save the original image\n",
        "    if boxes is None:\n",
        "      #mpl.imsave(file_name, im)\n",
        "      print(\"there is one image, where there is no detection..\")\n",
        "      continue;\n",
        "\n",
        "\n",
        "    #We will consider just one detection with the biggest height (which is most likely the sought human face)\n",
        "    biggest_y=0\n",
        "    \n",
        "\n",
        "    for box, prob in zip(boxes, probs):\n",
        "          startX, startY, endX, endY = box.astype(int)\n",
        "          if endY-startY>biggest_y:\n",
        "            biggest_y=endY-startY\n",
        "            biggest_blob=box\n",
        "\n",
        "    #we might want to detect bigger rectangle than the output of face detector, CAN BE CHANGED!!\n",
        "    bias=30\n",
        "\n",
        "    #The biggest blob\n",
        "    startX, startY, endX, endY = biggest_blob.astype(int)\n",
        "\n",
        "\n",
        "\n",
        "    #Visualize, do not use it if you want to save the images\n",
        "    #color = (0,255,0) \n",
        "    #cv2.rectangle(im, (startX-bias, startY-bias), (endX+bias, endY+bias), color, 2) \n",
        "\n",
        "    #plotting, for visualization\n",
        "    #plt.imshow(im)\n",
        "    #plt.show()\n",
        "\n",
        "    #Checking boundaries, it is important, trust me\n",
        "    start_x=np.max(np.array([0, startX-bias]))\n",
        "    start_y=np.max(np.array([0, startY-bias]))\n",
        "    end_x=np.min(np.array([endX+bias, w]))\n",
        "    end_y=np.min(np.array([endY+bias, h]))\n",
        "\n",
        "    #Cropping and saving\n",
        "    face_img=im[start_y:end_y, start_x:end_x]\n",
        "    mpl.imsave(file_name, face_img)\n",
        "\n",
        "\n"
      ],
      "execution_count": null,
      "outputs": []
    },
    {
      "cell_type": "markdown",
      "metadata": {
        "id": "A41dSE69T1FZ"
      },
      "source": [
        "#Defining an importan function for feature extraction"
      ]
    },
    {
      "cell_type": "code",
      "metadata": {
        "id": "FuViYqxsoGLM"
      },
      "source": [
        "import numpy as np\n",
        "\n",
        "def azimuthalAverage(image, center=None):\n",
        "    \"\"\"\n",
        "    Calculate the azimuthally averaged radial profile.\n",
        "    image - The 2D image\n",
        "    center - The [x,y] pixel coordinates used as the center. The default is \n",
        "             None, which then uses the center of the image (including \n",
        "             fracitonal pixels).\n",
        "    \n",
        "    \"\"\"\n",
        "    # Calculate the indices from the image\n",
        "    y, x = np.indices(image.shape)\n",
        "\n",
        "    if not center:\n",
        "        center = np.array([(x.max()-x.min())/2.0, (y.max()-y.min())/2.0])\n",
        "\n",
        "    r = np.hypot(x - center[0], y - center[1])\n",
        "\n",
        "    # Get sorted radii\n",
        "    ind = np.argsort(r.flat)\n",
        "    r_sorted = r.flat[ind]\n",
        "    i_sorted = image.flat[ind]\n",
        "\n",
        "    # Get the integer part of the radii (bin size = 1)\n",
        "    r_int = r_sorted.astype(int)\n",
        "\n",
        "    # Find all pixels that fall within each radial bin.\n",
        "    deltar = r_int[1:] - r_int[:-1]  # Assumes all radii represented\n",
        "    rind = np.where(deltar)[0]       # location of changed radius\n",
        "    nr = rind[1:] - rind[:-1]        # number of radius bin\n",
        "    \n",
        "    # Cumulative sum to figure out sums for each radius bin\n",
        "    csim = np.cumsum(i_sorted, dtype=float)\n",
        "    tbin = csim[rind[1:]] - csim[rind[:-1]]\n",
        "\n",
        "    radial_prof = tbin / nr\n",
        "\n",
        "    return radial_prof"
      ],
      "execution_count": null,
      "outputs": []
    },
    {
      "cell_type": "code",
      "metadata": {
        "colab": {
          "base_uri": "https://localhost:8080/"
        },
        "id": "qM9JbZk5lu3E",
        "outputId": "ddd3c952-c76d-4ac3-ea55-f4d81ce7a958"
      },
      "source": [
        "import glob\n",
        "import numpy as np\n",
        "\n",
        "rootdir = '/content/drive/MyDrive/Task_1/development_face/real/'\n",
        "\n",
        "a=np.shape(glob.glob(rootdir+\"*.jpg\"))[0]\n",
        "print(a)"
      ],
      "execution_count": null,
      "outputs": [
        {
          "output_type": "stream",
          "text": [
            "1075\n"
          ],
          "name": "stdout"
        }
      ]
    },
    {
      "cell_type": "markdown",
      "metadata": {
        "id": "naWSbqUfqoa3"
      },
      "source": [
        "#Feature extraction for the training set\n",
        "\n"
      ]
    },
    {
      "cell_type": "code",
      "metadata": {
        "colab": {
          "base_uri": "https://localhost:8080/"
        },
        "id": "uuUDNYSSifpP",
        "outputId": "b356afdb-18e2-4273-c141-7fc33e1c4ab1"
      },
      "source": [
        "\n",
        "import cv2\n",
        "import numpy as np\n",
        "import os\n",
        "import glob\n",
        "from matplotlib import pyplot as plt\n",
        "import pickle\n",
        "from scipy.interpolate import griddata\n",
        "\n",
        "data= {}\n",
        "epsilon = 1e-8\n",
        "N = 300\n",
        "y = []\n",
        "error = []\n",
        "\n",
        "\n",
        "\n",
        "\n",
        "psd1D_org_mean = np.zeros(N)\n",
        "psd1D_org_std = np.zeros(N)\n",
        "\n",
        "\n",
        "cont = 0\n",
        "\n",
        "#fake data\n",
        "rootdir = '/content/drive/MyDrive/Task_1/development_face/fake/'\n",
        "\n",
        "#Number of the images\n",
        "number_iter = np.shape(glob.glob(rootdir+\"*.jpg\"))[0]\n",
        "\n",
        "#Features\n",
        "psd1D_total = np.zeros([number_iter, N])\n",
        "label_total = np.zeros([number_iter])\n",
        "\n",
        "for filename in glob.glob(rootdir+\"*.jpg\"):\n",
        "    img = cv2.imread(filename,0)\n",
        "    \n",
        "    f = np.fft.fft2(img)\n",
        "    fshift = np.fft.fftshift(f)\n",
        "    fshift += epsilon\n",
        "    \n",
        "    magnitude_spectrum = 20*np.log(np.abs(fshift))\n",
        "    psd1D = azimuthalAverage(magnitude_spectrum)\n",
        "\n",
        "    # Calculate the azimuthally averaged 1D power spectrum\n",
        "    points = np.linspace(0,N,num=psd1D.size) # coordinates of a\n",
        "    xi = np.linspace(0,N,num=N) # coordinates for interpolation\n",
        "\n",
        "    interpolated = griddata(points,psd1D,xi,method='cubic')\n",
        "    interpolated /= interpolated[0]\n",
        "\n",
        "    psd1D_total[cont,:] = interpolated             \n",
        "    label_total[cont] = 1\n",
        "    cont+=1\n",
        "\n",
        "    if cont == number_iter:\n",
        "        break\n",
        "\n",
        "for x in range(N):\n",
        "    psd1D_org_mean[x] = np.mean(psd1D_total[:,x])\n",
        "    psd1D_org_std[x]= np.std(psd1D_total[:,x])\n",
        "    \n",
        "\n",
        "## real data\n",
        "\n",
        "\n",
        "psd1D_org_mean2 = np.zeros(N)\n",
        "psd1D_org_std2 = np.zeros(N)\n",
        "\n",
        "cont = 0\n",
        "rootdir2 = '/content/drive/MyDrive/Task_1/development_face/real/'\n",
        "\n",
        "#Number of the images\n",
        "number_iter = np.shape(glob.glob(rootdir2+\"*.jpg\"))[0]\n",
        "\n",
        "#Features\n",
        "psd1D_total2 = np.zeros([number_iter, N])\n",
        "label_total2 = np.zeros([number_iter])\n",
        "\n",
        "\n",
        "for filename in glob.glob(rootdir2+\"*.jpg\"):    \n",
        "    img = cv2.imread(filename,0)\n",
        "\n",
        "    f = np.fft.fft2(img)\n",
        "    fshift = np.fft.fftshift(f)\n",
        "    fshift += epsilon\n",
        "\n",
        "    magnitude_spectrum = 20*np.log(np.abs(fshift))\n",
        "\n",
        "    # Calculate the azimuthally averaged 1D power spectrum\n",
        "    psd1D = azimuthalAverage(magnitude_spectrum)\n",
        "\n",
        "    points = np.linspace(0,N,num=psd1D.size) # coordinates of a\n",
        "    xi = np.linspace(0,N,num=N) # coordinates for interpolation\n",
        "\n",
        "    interpolated = griddata(points,psd1D,xi,method='cubic')\n",
        "\n",
        "    interpolated /= interpolated[0]\n",
        "\n",
        "    psd1D_total2[cont,:] = interpolated             \n",
        "    label_total2[cont] = 0\n",
        "    cont+=1\n",
        "    \n",
        "    if cont == number_iter:\n",
        "        break\n",
        "\n",
        "for x in range(N):\n",
        "    psd1D_org_mean2[x] = np.mean(psd1D_total2[:,x])\n",
        "    psd1D_org_std2[x]= np.std(psd1D_total2[:,x])\n",
        "    \n",
        "\n",
        "y.append(psd1D_org_mean)\n",
        "y.append(psd1D_org_mean2)\n",
        "error.append(psd1D_org_std)\n",
        "error.append(psd1D_org_std2)\n",
        "\n",
        "psd1D_total_final = np.concatenate((psd1D_total,psd1D_total2), axis=0)\n",
        "label_total_final = np.concatenate((label_total,label_total2), axis=0)\n",
        "\n",
        "data[\"data\"] = psd1D_total_final\n",
        "data[\"label\"] = label_total_final\n",
        "\n",
        "output = open('celeba_low_1000_body.pkl', 'wb')\n",
        "pickle.dump(data, output)\n",
        "output.close()\n",
        "\n",
        "print(\"DATA Saved\")\n"
      ],
      "execution_count": null,
      "outputs": [
        {
          "output_type": "stream",
          "text": [
            "DATA Saved\n"
          ],
          "name": "stdout"
        }
      ]
    },
    {
      "cell_type": "markdown",
      "metadata": {
        "id": "VuVAVPQrtV7Y"
      },
      "source": [
        "#Feature extraction for the test set\n"
      ]
    },
    {
      "cell_type": "code",
      "metadata": {
        "colab": {
          "base_uri": "https://localhost:8080/"
        },
        "id": "y5DZ4068qz-L",
        "outputId": "a86293c4-a0dd-4df9-a21a-0c1e96ffabda"
      },
      "source": [
        "import cv2\n",
        "import numpy as np\n",
        "import os\n",
        "import glob\n",
        "from matplotlib import pyplot as plt\n",
        "import pickle\n",
        "from scipy.interpolate import griddata\n",
        "\n",
        "\n",
        "data= {}\n",
        "epsilon = 1e-8\n",
        "N = 300\n",
        "y = []\n",
        "error = []\n",
        "\n",
        "\n",
        "\n",
        "psd1D_org_mean = np.zeros(N)\n",
        "psd1D_org_std = np.zeros(N)\n",
        "\n",
        "\n",
        "cont = 0\n",
        "\n",
        "#fake data\n",
        "rootdir = '/content/drive/MyDrive/Task_2_3/evaluation_face/fake/'\n",
        "#rootdir = '/content/drive/MyDrive/Task_1/evaluation_face/fake/'\n",
        "\n",
        "number_iter=np.shape(glob.glob(rootdir+\"*.jpg\"))[0]\n",
        "\n",
        "#Features\n",
        "psd1D_total = np.zeros([number_iter, N])\n",
        "label_total = np.zeros([number_iter])\n",
        "\n",
        "\n",
        "for filename in glob.glob(rootdir+\"*.jpg\"):\n",
        "    img = cv2.imread(filename,0)\n",
        "    \n",
        "    f = np.fft.fft2(img)\n",
        "    fshift = np.fft.fftshift(f)\n",
        "    fshift += epsilon\n",
        "    \n",
        "    magnitude_spectrum = 20*np.log(np.abs(fshift))\n",
        "    psd1D = azimuthalAverage(magnitude_spectrum)\n",
        "\n",
        "    # Calculate the azimuthally averaged 1D power spectrum\n",
        "    points = np.linspace(0,N,num=psd1D.size) # coordinates of a\n",
        "    xi = np.linspace(0,N,num=N) # coordinates for interpolation\n",
        "\n",
        "    interpolated = griddata(points,psd1D,xi,method='cubic')\n",
        "    interpolated /= interpolated[0]\n",
        "\n",
        "    psd1D_total[cont,:] = interpolated             \n",
        "    label_total[cont] = 1\n",
        "    cont+=1\n",
        "\n",
        "    if cont == number_iter:\n",
        "        break\n",
        "\n",
        "for x in range(N):\n",
        "    psd1D_org_mean[x] = np.mean(psd1D_total[:,x])\n",
        "    psd1D_org_std[x]= np.std(psd1D_total[:,x])\n",
        "    \n",
        "\n",
        "## real data\n",
        "\n",
        "\n",
        "\n",
        "psd1D_org_mean2 = np.zeros(N)\n",
        "psd1D_org_std2 = np.zeros(N)\n",
        "\n",
        "\n",
        "\n",
        "cont = 0\n",
        "rootdir2 = '/content/drive/MyDrive/Task_2_3/evaluation_face/real/'\n",
        "\n",
        "#Number of images\n",
        "number_iter=np.shape(glob.glob(rootdir2+\"*.jpg\"))[0]\n",
        "\n",
        "#Features\n",
        "psd1D_total2 = np.zeros([number_iter, N])\n",
        "label_total2 = np.zeros([number_iter])\n",
        "\n",
        "\n",
        "for filename in glob.glob(rootdir2+\"*.jpg\"):     \n",
        "    img = cv2.imread(filename,0)\n",
        "\n",
        "    f = np.fft.fft2(img)\n",
        "    fshift = np.fft.fftshift(f)\n",
        "    fshift += epsilon\n",
        "\n",
        "    magnitude_spectrum = 20*np.log(np.abs(fshift))\n",
        "\n",
        "    # Calculate the azimuthally averaged 1D power spectrum\n",
        "    psd1D = azimuthalAverage(magnitude_spectrum)\n",
        "\n",
        "    points = np.linspace(0,N,num=psd1D.size) # coordinates of a\n",
        "    xi = np.linspace(0,N,num=N) # coordinates for interpolation\n",
        "\n",
        "    interpolated = griddata(points,psd1D,xi,method='cubic')\n",
        "\n",
        "    interpolated /= interpolated[0]\n",
        "\n",
        "    psd1D_total2[cont,:] = interpolated             \n",
        "    label_total2[cont] = 0\n",
        "    cont+=1\n",
        "    \n",
        "    if cont == number_iter:\n",
        "        break\n",
        "\n",
        "for x in range(N):\n",
        "    psd1D_org_mean2[x] = np.mean(psd1D_total2[:,x])\n",
        "    psd1D_org_std2[x]= np.std(psd1D_total2[:,x])\n",
        "    \n",
        "\n",
        "y.append(psd1D_org_mean)\n",
        "y.append(psd1D_org_mean2)\n",
        "error.append(psd1D_org_std)\n",
        "error.append(psd1D_org_std2)\n",
        "\n",
        "psd1D_total_final = np.concatenate((psd1D_total,psd1D_total2), axis=0)\n",
        "label_total_final = np.concatenate((label_total,label_total2), axis=0)\n",
        "\n",
        "data[\"data_test\"] = psd1D_total_final\n",
        "data[\"label_test\"] = label_total_final\n",
        "\n",
        "output = open('celeba_low_1000_test_body.pkl', 'wb')\n",
        "pickle.dump(data, output)\n",
        "output.close()\n",
        "\n",
        "print(\"DATA Saved\")"
      ],
      "execution_count": null,
      "outputs": [
        {
          "output_type": "stream",
          "text": [
            "DATA Saved\n"
          ],
          "name": "stdout"
        }
      ]
    },
    {
      "cell_type": "markdown",
      "metadata": {
        "id": "3Mru4P-xI5YO"
      },
      "source": [
        "#Feature extraction\n",
        "\n"
      ]
    },
    {
      "cell_type": "code",
      "metadata": {
        "colab": {
          "base_uri": "https://localhost:8080/"
        },
        "id": "4UeJ1ro0pehK",
        "outputId": "1869c353-b1d9-46fb-9590-f566228f8495"
      },
      "source": [
        "import numpy as np\n",
        "import matplotlib.pyplot as plt\n",
        "import pickle\n",
        "\n",
        "# load feature file\n",
        "pkl_file = open('celeba_low_1000_body.pkl', 'rb')\n",
        "data = pickle.load(pkl_file)\n",
        "pkl_file.close()\n",
        "X = data[\"data\"]\n",
        "y = data[\"label\"]\n",
        "print(X.shape)\n",
        "\n",
        "\n",
        "pkl_file = open('celeba_low_1000_test_body.pkl', 'rb')   \n",
        "data = pickle.load(pkl_file)\n",
        "pkl_file.close()\n",
        "X_test = data[\"data_test\"]\n",
        "y_test = data[\"label_test\"]\n",
        "\n",
        "print(X_test.shape)"
      ],
      "execution_count": null,
      "outputs": [
        {
          "output_type": "stream",
          "text": [
            "(2035, 300)\n",
            "(600, 300)\n"
          ],
          "name": "stdout"
        }
      ]
    },
    {
      "cell_type": "code",
      "metadata": {
        "colab": {
          "background_save": true
        },
        "id": "VyMGzTuQphJp",
        "outputId": "a35d701d-aa34-4109-e9a3-de057a8e27d2"
      },
      "source": [
        "plt.plot(y)"
      ],
      "execution_count": null,
      "outputs": [
        {
          "output_type": "execute_result",
          "data": {
            "text/plain": [
              "[<matplotlib.lines.Line2D at 0x7f4f9ce9b910>]"
            ]
          },
          "metadata": {
            "tags": []
          },
          "execution_count": 0
        },
        {
          "output_type": "display_data",
          "data": {
            "image/png": "[encoded data removed]",
            "text/plain": [
              "<Figure size 432x288 with 1 Axes>"
            ]
          },
          "metadata": {
            "tags": []
          }
        }
      ]
    },
    {
      "cell_type": "code",
      "metadata": {
        "colab": {
          "background_save": true
        },
        "id": "lrRKBK4HFz-I"
      },
      "source": [
        ""
      ],
      "execution_count": null,
      "outputs": []
    },
    {
      "cell_type": "markdown",
      "metadata": {
        "id": "qQxt5DhsGPJd"
      },
      "source": [
        "#Training and Evaluation"
      ]
    },
    {
      "cell_type": "code",
      "metadata": {
        "colab": {
          "base_uri": "https://localhost:8080/",
          "height": 512
        },
        "id": "PtJQggXQqKOk",
        "outputId": "bbaef842-a8c0-431a-f6e5-9279a8ff5898"
      },
      "source": [
        "import numpy as np\n",
        "import matplotlib.pyplot as plt\n",
        "import pickle\n",
        "\n",
        "\n",
        "num = 10\n",
        "LR = 0\n",
        "SVM = 0\n",
        "SVM_r = 0\n",
        "SVM_p = 0\n",
        "\n",
        "\n",
        "for z in range(num):\n",
        "    # read python dict back from the file\n",
        "    pkl_file = open('celeba_low_1000_body.pkl', 'rb')   \n",
        "    data = pickle.load(pkl_file)\n",
        "    pkl_file.close()\n",
        "    X_train = data[\"data\"]\n",
        "    y_train = data[\"label\"]\n",
        "\n",
        "\n",
        "\n",
        "    pkl_file = open('celeba_low_1000_test_body.pkl', 'rb')   \n",
        "    data = pickle.load(pkl_file)\n",
        "    pkl_file.close()\n",
        "    X_test = data[\"data_test\"]\n",
        "    y_test = data[\"label_test\"]\n",
        "\n",
        "    print(y_test.shape)\n",
        "\n",
        "\n",
        "    try:\n",
        "\n",
        "\n",
        "        from sklearn.svm import SVC\n",
        "        svclassifier = SVC(kernel='linear', probability=True)\n",
        "        svclassifier.fit(X_train, y_train)\n",
        "        #print('Accuracy on test set: {:.3f}'.format(svclassifier.score(X_test, y_test)))\n",
        "               \n",
        "        from sklearn.svm import SVC\n",
        "        svclassifier_r = SVC(C=6.37, kernel='rbf', gamma=0.86)\n",
        "        svclassifier_r.fit(X_train, y_train)\n",
        "        #print('Accuracy on test set: {:.3f}'.format(svclassifier_r.score(X_test, y_test)))\n",
        "                \n",
        "        from sklearn.svm import SVC\n",
        "        svclassifier_p = SVC(kernel='poly', probability=True, random_state=0)\n",
        "        svclassifier_p.fit(X_train, y_train)\n",
        "        #print('Accuracy on test set: {:.3f}'.format(svclassifier_p.score(X_test, y_test)))\n",
        "        \n",
        "        from sklearn.linear_model import LogisticRegression\n",
        "        logreg = LogisticRegression(solver='liblinear', max_iter=1000)\n",
        "        logreg.fit(X_train, y_train)\n",
        "        #print('Accuracy on test set: {:.3f}'.format(logreg.score(X_test, y_test)))\n",
        "\n",
        "        \n",
        "        SVM+=svclassifier.score(X_test, y_test)\n",
        "        SVM_r+=svclassifier_r.score(X_test, y_test)\n",
        "        SVM_p+=svclassifier_p.score(X_test, y_test)\n",
        "        LR+=logreg.score(X_test, y_test)\n",
        "\n",
        "        \n",
        "    except:\n",
        "        num-=1\n",
        "        print(num)\n",
        "    \n",
        "print(\"Average SVM: \"+str(SVM/num))\n",
        "print(\"Average SVM_r: \"+str(SVM_r/num))\n",
        "print(\"Average SVM_p: \"+str(SVM_p/num))\n",
        "print(\"Average LR: \"+str(LR/num))\n",
        "\n",
        "from sklearn.metrics import roc_curve, auc, roc_auc_score, plot_roc_curve\n",
        "import matplotlib.pyplot as plt \n",
        "\n",
        "plot_roc_curve(svclassifier, X_test, y_test)  \n",
        "plt.show()\n",
        "\n"
      ],
      "execution_count": null,
      "outputs": [
        {
          "output_type": "stream",
          "text": [
            "(600,)\n",
            "(600,)\n",
            "(600,)\n",
            "(600,)\n",
            "(600,)\n",
            "(600,)\n",
            "(600,)\n",
            "(600,)\n",
            "(600,)\n",
            "(600,)\n",
            "Average SVM: 0.5\n",
            "Average SVM_r: 0.44333333333333336\n",
            "Average SVM_p: 0.4666666666666667\n",
            "Average LR: 0.41666666666666663\n"
          ],
          "name": "stdout"
        },
        {
          "output_type": "display_data",
          "data": {
            "image/png": "[encoded data removed]",
            "text/plain": [
              "<Figure size 432x288 with 1 Axes>"
            ]
          },
          "metadata": {
            "tags": []
          }
        }
      ]
    },
    {
      "cell_type": "code",
      "metadata": {
        "colab": {
          "base_uri": "https://localhost:8080/",
          "height": 279
        },
        "id": "Baok-xxo8gGb",
        "outputId": "94b06c56-7cab-4620-c119-fe112cd3dd95"
      },
      "source": [
        "from sklearn.svm import SVC\n",
        "svclassifier = SVC(kernel='linear', probability=True)\n",
        "svclassifier.fit(X_train, y_train)\n",
        "#print('Accuracy on test set: {:.3f}'.format(svclassifier.score(X_test, y_test)))\n",
        "\n",
        "from sklearn.metrics import roc_curve, auc, roc_auc_score, plot_roc_curve\n",
        "import matplotlib.pyplot as plt \n",
        "\n",
        "plot_roc_curve(svclassifier, X_test, y_test)  \n",
        "plt.show()\n"
      ],
      "execution_count": null,
      "outputs": [
        {
          "output_type": "display_data",
          "data": {
            "image/png": "[encoded data removed]",
            "text/plain": [
              "<Figure size 432x288 with 1 Axes>"
            ]
          },
          "metadata": {
            "tags": []
          }
        }
      ]
    },
    {
      "cell_type": "markdown",
      "metadata": {
        "id": "fgfqj47Mq83C"
      },
      "source": [
        "#Transfer Learning"
      ]
    },
    {
      "cell_type": "code",
      "metadata": {
        "id": "8PzKQNiRohLT"
      },
      "source": [
        "import numpy as np\n",
        "import matplotlib.pyplot as plt\n",
        "import sklearn.metrics as metrics\n",
        "\n",
        "import torch\n",
        "import torch.nn.functional as F\n",
        "import torch.nn as nn\n",
        "import torch.optim as optim\n",
        "import torchvision.transforms as transforms\n",
        "import torchvision.models as models\n",
        "\n",
        "from torchvision.datasets.utils import download_file_from_google_drive\n",
        "from torchvision.datasets import ImageFolder\n",
        "from torch.utils.data import DataLoader\n",
        "from PIL import Image\n",
        "\n",
        "\n",
        "torch.backends.cudnn.deterministic = True\n",
        "torch.backends.cudnn.benchmark = False"
      ],
      "execution_count": null,
      "outputs": []
    },
    {
      "cell_type": "code",
      "metadata": {
        "colab": {
          "base_uri": "https://localhost:8080/"
        },
        "id": "DU_LS4cDoud8",
        "outputId": "0d68a10a-cdd6-4a51-8ea6-42bec335d6c2"
      },
      "source": [
        "import os\n",
        "import glob\n",
        "from PIL import Image\n",
        "import os, os.path\n",
        "from torch.utils.data import DataLoader\n",
        "from torchvision import datasets, transforms\n",
        "import matplotlib.pyplot as plot\n",
        "import tensorflow as tf\n",
        "\n",
        "\n",
        "\n",
        "train_transform = transforms.Compose([\n",
        "    transforms.Resize(224),                                 \n",
        "    transforms.RandomCrop(192),\n",
        "    transforms.RandomHorizontalFlip(),\n",
        "    transforms.ToTensor(),\n",
        "    transforms.Normalize((0.4914, 0.4822, 0.4465), (0.2023, 0.1994, 0.2010))                  \n",
        "])\n",
        "\n",
        "valid_transform = transforms.Compose([\n",
        "    transforms.Resize(224),    \n",
        "    transforms.CenterCrop(192),\n",
        "    transforms.ToTensor(),\n",
        "    transforms.Normalize((0.4914, 0.4822, 0.4465), (0.2023, 0.1994, 0.2010))                  \n",
        "])\n",
        "\n",
        "files='/content/drive/MyDrive/Task_1/development_face/'\n",
        "\n",
        "\n",
        "train_set = ImageFolder(files, transform=train_transform)\n",
        "\n",
        "print(len(train_set))\n",
        "\n",
        "# Create an analagous ImageFolder for the validation set\n",
        "files='/content/drive/MyDrive/Task_2_3/evaluation_face/'\n",
        "\n",
        "\n",
        "\n",
        "\n",
        "valid_set = ImageFolder(files, transform=valid_transform)\n",
        "\n",
        "print(len(valid_set))\n",
        "\n",
        "\n",
        "train_loader = DataLoader(train_set, batch_size=64, shuffle=True)\n",
        "\n",
        "# Create a loader for the validation set, but disable shuffling of the validation data\n",
        "# (it is unnecessary to shuffle validation data)\n",
        "valid_loader = DataLoader(valid_set, batch_size=64, shuffle=False)"
      ],
      "execution_count": null,
      "outputs": [
        {
          "output_type": "stream",
          "text": [
            "2035\n",
            "600\n"
          ],
          "name": "stdout"
        }
      ]
    },
    {
      "cell_type": "code",
      "metadata": {
        "id": "vCsVsucMo_Pn"
      },
      "source": [
        "model = models.resnet50(pretrained=True)\n",
        "#model.to(device)\n",
        "#print(model)\n",
        "\n",
        "model.fc = nn.Sequential()"
      ],
      "execution_count": null,
      "outputs": []
    },
    {
      "cell_type": "code",
      "metadata": {
        "colab": {
          "base_uri": "https://localhost:8080/"
        },
        "id": "CgQu-v89pL5g",
        "outputId": "ca56ad36-ae58-4c5e-ec2b-0a9fa76bd5e2"
      },
      "source": [
        "def extract_features(loader):\n",
        "    \n",
        "    # put the model in eval mode\n",
        "    model.eval()\n",
        "\n",
        "    features, labels = [], []\n",
        "    \n",
        "    with torch.no_grad():\n",
        "        for batch, targets in loader:\n",
        "            #batch = batch.to(device)\n",
        "\n",
        "            # extract the features using the model\n",
        "            batch_features = model(batch)\n",
        "\n",
        "            features.append(batch_features.data.cpu().numpy())\n",
        "            labels.append(targets.numpy())\n",
        "\n",
        "    features = np.concatenate(features, axis=0)\n",
        "    labels = np.concatenate(labels, axis=0)\n",
        "    return features, labels\n",
        "\n",
        "train_features, train_labels = extract_features(train_loader)\n",
        "valid_features, valid_labels = extract_features(valid_loader)\n",
        "\n",
        "print(f'train features are {train_features.shape}')\n",
        "print(f'valid features are {valid_features.shape}')"
      ],
      "execution_count": null,
      "outputs": [
        {
          "output_type": "stream",
          "text": [
            "train features are (2035, 2048)\n",
            "valid features are (600, 2048)\n"
          ],
          "name": "stdout"
        }
      ]
    },
    {
      "cell_type": "code",
      "metadata": {
        "colab": {
          "base_uri": "https://localhost:8080/",
          "height": 296
        },
        "id": "FIqiBFntpea6",
        "outputId": "c5445012-4ffe-4528-90dd-4b39ab109ad0"
      },
      "source": [
        "from sklearn.linear_model import LogisticRegression\n",
        "\n",
        "classifier = LogisticRegression(C=1, solver='liblinear')\n",
        "\n",
        "\n",
        "# Fit the logistic regression classifier on the training features\n",
        "classifier.fit(train_features, train_labels)\n",
        "\n",
        "# make predictions using the logistic regression classifier on the validation features\n",
        "y_hat = classifier.predict(valid_features)\n",
        "\n",
        "accuracy = metrics.accuracy_score(valid_labels, y_hat)\n",
        "print(f'Accuracy: {accuracy:0.3f}')\n",
        "\n",
        "\n",
        "from sklearn.metrics import roc_curve, auc, roc_auc_score, plot_roc_curve\n",
        "import matplotlib.pyplot as plt \n",
        "\n",
        "plot_roc_curve(classifier, valid_features, valid_labels)  \n",
        "plt.show()"
      ],
      "execution_count": null,
      "outputs": [
        {
          "output_type": "stream",
          "text": [
            "Accuracy: 0.552\n"
          ],
          "name": "stdout"
        },
        {
          "output_type": "display_data",
          "data": {
            "image/png": "[encoded data removed]",
            "text/plain": [
              "<Figure size 432x288 with 1 Axes>"
            ]
          },
          "metadata": {
            "tags": []
          }
        }
      ]
    },
    {
      "cell_type": "code",
      "metadata": {
        "colab": {
          "base_uri": "https://localhost:8080/",
          "height": 296
        },
        "id": "Z_4eU3wEEvQF",
        "outputId": "dd5d8d98-35ad-4d03-cb5d-85b2745be31f"
      },
      "source": [
        "from sklearn.svm import SVC\n",
        "\n",
        "classifier = SVC(kernel='linear', probability=True)\n",
        "classifier.fit(train_features, train_labels)\n",
        "\n",
        "# make predictions\n",
        "y_hat = classifier.predict(valid_features)\n",
        "\n",
        "accuracy = metrics.accuracy_score(valid_labels, y_hat)\n",
        "print(f'Accuracy: {accuracy:0.3f}')\n",
        "\n",
        "\n",
        "from sklearn.metrics import roc_curve, auc, roc_auc_score, plot_roc_curve\n",
        "import matplotlib.pyplot as plt \n",
        "\n",
        "plot_roc_curve(classifier, valid_features, valid_labels)  \n",
        "plt.show()\n"
      ],
      "execution_count": null,
      "outputs": [
        {
          "output_type": "stream",
          "text": [
            "Accuracy: 0.555\n"
          ],
          "name": "stdout"
        },
        {
          "output_type": "display_data",
          "data": {
            "image/png": "[encoded data removed]",
            "text/plain": [
              "<Figure size 432x288 with 1 Axes>"
            ]
          },
          "metadata": {
            "tags": []
          }
        }
      ]
    },
    {
      "cell_type": "markdown",
      "metadata": {
        "id": "6EnZ7luVpacw"
      },
      "source": [
        ""
      ]
    },
    {
      "cell_type": "markdown",
      "metadata": {
        "id": "PHMNwI0qhXZV"
      },
      "source": [
        "#The mix of the two methods"
      ]
    },
    {
      "cell_type": "code",
      "metadata": {
        "colab": {
          "base_uri": "https://localhost:8080/",
          "height": 574
        },
        "id": "hrqCYfqegsNj",
        "outputId": "d9c4ea54-5d35-4eb2-ce50-e7f2f357a5ae"
      },
      "source": [
        "#New features\n",
        "train_final=np.concatenate((X_train, train_features), axis=1)\n",
        "valid_final=np.concatenate((X_test, valid_features), axis=1)\n",
        "\n",
        "\n",
        "##SVM\n",
        "\n",
        "from sklearn.svm import SVC\n",
        "\n",
        "classifier = SVC(kernel='linear', probability=True)\n",
        "classifier.fit(train_final, train_labels)\n",
        "\n",
        "# make predictions\n",
        "y_hat = classifier.predict(valid_final)\n",
        "\n",
        "accuracy = metrics.accuracy_score(valid_labels, y_hat)\n",
        "print(f'Accuracy: {accuracy:0.3f}')\n",
        "\n",
        "\n",
        "from sklearn.metrics import roc_curve, auc, roc_auc_score, plot_roc_curve\n",
        "import matplotlib.pyplot as plt \n",
        "\n",
        "plot_roc_curve(classifier, valid_final, valid_labels)  \n",
        "plt.show()\n",
        "\n",
        "#LOGISTIC REGRESSION\n",
        "\n",
        "\n",
        "from sklearn.linear_model import LogisticRegression\n",
        "\n",
        "classifier = LogisticRegression(C=1, solver='liblinear')\n",
        "\n",
        "\n",
        "# Fit the logistic regression classifier on the training features\n",
        "classifier.fit(train_final, train_labels)\n",
        "\n",
        "# make predictions using the logistic regression classifier on the validation features\n",
        "y_hat = classifier.predict(valid_final)\n",
        "\n",
        "accuracy = metrics.accuracy_score(valid_labels, y_hat)\n",
        "print(f'Accuracy: {accuracy:0.3f}')\n",
        "\n",
        "\n",
        "from sklearn.metrics import roc_curve, auc, roc_auc_score, plot_roc_curve\n",
        "import matplotlib.pyplot as plt \n",
        "\n",
        "plot_roc_curve(classifier, valid_final, valid_labels)  \n",
        "plt.show()\n",
        "\n",
        "\n"
      ],
      "execution_count": null,
      "outputs": [
        {
          "output_type": "stream",
          "text": [
            "Accuracy: 0.550\n"
          ],
          "name": "stdout"
        },
        {
          "output_type": "display_data",
          "data": {
            "image/png": "[encoded data removed]",
            "text/plain": [
              "<Figure size 432x288 with 1 Axes>"
            ]
          },
          "metadata": {
            "tags": []
          }
        },
        {
          "output_type": "stream",
          "text": [
            "Accuracy: 0.552\n"
          ],
          "name": "stdout"
        },
        {
          "output_type": "display_data",
          "data": {
            "image/png": "[encoded data removed]",
            "text/plain": [
              "<Figure size 432x288 with 1 Axes>"
            ]
          },
          "metadata": {
            "tags": []
          }
        }
      ]
    }
  ]
}